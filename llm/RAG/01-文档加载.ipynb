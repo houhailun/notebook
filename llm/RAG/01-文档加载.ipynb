{
 "cells": [
  {
   "cell_type": "markdown",
   "id": "c53c85a7",
   "metadata": {},
   "source": [
    "#  文档加载\n",
    "1. txt文档加载\n",
    "2. doc文档加载\n",
    "3. pdf文档加载\n",
    "4. html文档加载\n",
    "5. markdown文档加载\n",
    "6. csv文档加载\n",
    "7. json文档加载"
   ]
  },
  {
   "cell_type": "markdown",
   "id": "182cc3ed",
   "metadata": {},
   "source": [
    "# 一、txt文档加载\n",
    "## 1.1 自己实现"
   ]
  },
  {
   "cell_type": "code",
   "execution_count": 21,
   "id": "bb80d89c",
   "metadata": {},
   "outputs": [],
   "source": [
    "from tqdm import tqdm\n",
    "import chardet\n",
    "\n",
    "\n",
    "def get_encoding(file_name):\n",
    "    \"\"\"检测文档格式\n",
    "    \"\"\"\n",
    "    with open(file_name, 'r') as fr:\n",
    "        tmp = chardet.detect(fr.read())\n",
    "        return tmp['encoding']\n",
    "    \n",
    "    \n",
    "class TextSparser:\n",
    "    \"\"\"txt文本加载类\n",
    "    \"\"\"\n",
    "    def parser(self, fnm, encoding='utf-8', from_page=0, to_page=100000, **kwargs):\n",
    "        \"\"\"解析txt文档\n",
    "        \"\"\"\n",
    "        # 如果 fnm 不是字符串，则使用 find_codec 找到编码\n",
    "        if not isinstance(fnm, str):\n",
    "            encoding = get_encoding(fnm) if encoding is None else encoding\n",
    "            txt = fnm.decode(encoding, error='ignore')\n",
    "        else:\n",
    "            # 如果是字符串文件路径，且没有传入encoding，则使用 get_encoding 检测编码\n",
    "            encoding = get_encoding(fnm) if encoding is None else encoding\n",
    "            with open(fnm, \"r\", encoding=encoding) as f:\n",
    "                txt = f.read()\n",
    "                \n",
    "        sections = []\n",
    "        # 按行进行解析并显示进度\n",
    "        for sec in tqdm(txt.split('\\n'), desc='Parsing'):\n",
    "            if sec.strip():\n",
    "                sections.append(sec)\n",
    "        return sections\n",
    "    \n",
    "    def crop(self, ck, need_position):\n",
    "        raise NotImplementedError\n",
    "    \n",
    "    @staticmethod\n",
    "    def remove_tag(txt):\n",
    "        raise NotImplementedError"
   ]
  },
  {
   "cell_type": "code",
   "execution_count": 22,
   "id": "86bd4b7b",
   "metadata": {},
   "outputs": [
    {
     "name": "stderr",
     "output_type": "stream",
     "text": [
      "Parsing: 100%|███████████████████████████████████████████████████████████████████████████████████| 9/9 [00:00<?, ?it/s]\n"
     ]
    },
    {
     "data": {
      "text/plain": [
       "(7,\n",
       " ['# 角色: ',\n",
       "  '你是一个对话评分小助手，你需要根据对话内容，对销售的表现进行评分和分析，提供总分、环节得分、优缺点总结，并提出改进建议。',\n",
       "  '## 技能',\n",
       "  '1. 根据对话内容逐一评分，涵盖开场、需求挖掘、成因分析、产品介绍及用量指导、方案推荐、服务保障六个环节。',\n",
       "  '2. 每个环节提供1-2条优缺点评价及优化建议。',\n",
       "  '3. 提供具体的改进话术或策略示例，帮助优化销售话术。',\n",
       "  '4. 能够根据每个环节得分，准确计算出总得分。'])"
      ]
     },
     "execution_count": 22,
     "metadata": {},
     "output_type": "execute_result"
    }
   ],
   "source": [
    "fnm = \"file_txt.txt\"\n",
    "\n",
    "text_sparser = TextSparser()\n",
    "texts = text_sparser.parser(fnm)\n",
    "len(texts), texts"
   ]
  },
  {
   "cell_type": "markdown",
   "id": "24bafbdb",
   "metadata": {},
   "source": [
    "## 1.2 使用langchain实现"
   ]
  },
  {
   "cell_type": "code",
   "execution_count": 28,
   "id": "82d5f7ed",
   "metadata": {},
   "outputs": [
    {
     "name": "stdout",
     "output_type": "stream",
     "text": [
      "# 角色: \n",
      "你是一个对话评分小助手，你需要根据对话内容，对销售的表现进行评分和分析，提供总分、环节得分、优缺点总结，并提出改进建议。\n",
      "\n",
      "\n",
      "## 技能\n",
      "1. 根据对话内容逐一评分，涵盖开场、需求挖掘、成因分析、产品介绍及用量指导、方案推荐、服务保障六个环节。\n",
      "2. 每个环节提供1-2条优缺点评价及优化建议。\n",
      "3. 提供具体的改进话术或策略示例，帮助优化销售话术。\n",
      "4. 能够根据每个环节得分，准确计算出总得分。\n"
     ]
    }
   ],
   "source": [
    "from langchain.document_loaders import TextLoader\n",
    "\n",
    "fnm = \"file_txt.txt\"\n",
    "loader = TextLoader(fnm, encoding='utf-8')\n",
    "texts = loader.load()\n",
    "\n",
    "for i, text in enumerate(texts):\n",
    "    print(text.page_content)"
   ]
  },
  {
   "cell_type": "markdown",
   "id": "53d6673a",
   "metadata": {},
   "source": [
    "# 二、doc文档加载"
   ]
  },
  {
   "cell_type": "markdown",
   "id": "be1be377",
   "metadata": {},
   "source": [
    "## 2.1 自己实现"
   ]
  },
  {
   "cell_type": "markdown",
   "id": "e259d125",
   "metadata": {},
   "source": [
    "## 2.2 使用langchain实现"
   ]
  },
  {
   "cell_type": "code",
   "execution_count": null,
   "id": "1a0a2aaa",
   "metadata": {},
   "outputs": [],
   "source": [
    "from langchain.document_loaders import Doc"
   ]
  }
 ],
 "metadata": {
  "kernelspec": {
   "display_name": "py310",
   "language": "python",
   "name": "py310"
  },
  "language_info": {
   "codemirror_mode": {
    "name": "ipython",
    "version": 3
   },
   "file_extension": ".py",
   "mimetype": "text/x-python",
   "name": "python",
   "nbconvert_exporter": "python",
   "pygments_lexer": "ipython3",
   "version": "3.10.13"
  }
 },
 "nbformat": 4,
 "nbformat_minor": 5
}
